{
  "cells": [
    {
      "metadata": {},
      "cell_type": "markdown",
      "source": "# Grunnleggende datatyper i Python\nVi har mange ulike datatyper. De mest grunnleggende og vanligste er tall, tekst, lister, tuples og dictionaries.\n\n## Tall\nTall finnes i flere formater, men de viktigste er heltall (int) og desimaltall (float). Vi har også komplekse og imaginære tall.\n\n## Tekst\nTekst eller strings skrives mellom disse '' eller mellom disse \"\".\n\n## Lister\nLister skrives med [] rundt, og elementene skilles med komma. Elementene trenger ikke ha like typer, og en liste kan inneholde en liste. Lister kan modifiseres på mange måter.\n\n## Tuples\nTuples skrives med () rundt, og elementene skilles med komma. Elementene trenger ikke ha like typer, og en tuple kan inneholde en tuple. Tuples kan normalt ikke modifiseres, men det er unntak.\n\n## Dictionaries\nDictionaries skrives med {} rundt, linken mellom nøkkel og verdi er kolon : og elementene skilles med komma. Elementene trenger ikke ha like typer, og en dictionary kan inneholde en dictionary. Dictionaries kan modifiseres.\n\n## Typer\nVi kan sjekke typen til et objekt ved å skrive type(objekt). For å printe det, skriv print(type(objekt)).\n\n## Kommentarer\nKommentarer skrives med \\# foran teksten."
    },
    {
      "metadata": {
        "trusted": true
      },
      "cell_type": "code",
      "source": "heltallet = 6\ndesimaltallet = 3.14              # Dette er en kommentar på linje 2\nteksten = \"dette er en tekst\"\nlisten = [3, 6.7, 'hei', 'på', \"deg\", teksten, heltallet, [-3, 'tekst', 12], 9]  # Legg merke til at det ikke gjør noen forskjell om det står '' eller \"\". Mer om dette senere.\ntuplen = (5, heltallet, 'her er det mer tekst')\nordboken = {'Per': 22334455, 'Kari': 99887766}\n\nprint(heltallet)\nprint(type(heltallet))\nprint(desimaltallet)\nprint(type(desimaltallet))\nprint(teksten)\nprint(type(teksten))\nprint(listen)\nprint(type(listen))\nprint(tuplen)\nprint(type(tuplen))\nprint(ordboken)\nprint(type(ordboken))",
      "execution_count": 1,
      "outputs": [
        {
          "output_type": "stream",
          "text": "6\n<class 'int'>\n3.14\n<class 'float'>\ndette er en tekst\n<class 'str'>\n[3, 6.7, 'hei', 'på', 'deg', 'dette er en tekst', 6, [-3, 'tekst', 12], 9]\n<class 'list'>\n(5, 6, 'her er det mer tekst')\n<class 'tuple'>\n{'Kari': 99887766, 'Per': 22334455}\n<class 'dict'>\n",
          "name": "stdout"
        }
      ]
    },
    {
      "metadata": {},
      "cell_type": "markdown",
      "source": "###### Øystein Grøndahl, oktober 2018"
    }
  ],
  "metadata": {
    "kernelspec": {
      "name": "python3",
      "display_name": "Python 3",
      "language": "python"
    },
    "language_info": {
      "mimetype": "text/x-python",
      "nbconvert_exporter": "python",
      "name": "python",
      "file_extension": ".py",
      "version": "3.5.4",
      "pygments_lexer": "ipython3",
      "codemirror_mode": {
        "version": 3,
        "name": "ipython"
      }
    }
  },
  "nbformat": 4,
  "nbformat_minor": 2
}